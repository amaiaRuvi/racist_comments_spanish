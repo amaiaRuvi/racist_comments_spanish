{
  "nbformat": 4,
  "nbformat_minor": 0,
  "metadata": {
    "colab": {
      "provenance": []
    },
    "kernelspec": {
      "name": "python3",
      "display_name": "Python 3"
    },
    "language_info": {
      "name": "python"
    }
  },
  "cells": [
    {
      "cell_type": "code",
      "source": [
        "# Imports\n",
        "!pip install -q transformers[torch] datasets accelerate evaluate\n",
        "from datasets import load_dataset\n",
        "import re"
      ],
      "metadata": {
        "id": "vtBcYasvnd4o"
      },
      "execution_count": null,
      "outputs": []
    },
    {
      "cell_type": "code",
      "source": [
        "# Cargar el dataset\n",
        "database = \"amaiaruvi/news_racist_comments_spanish\"\n",
        "dataset = load_dataset(database)\n",
        "dataset"
      ],
      "metadata": {
        "colab": {
          "base_uri": "https://localhost:8080/"
        },
        "id": "PMd-MVc7niji",
        "outputId": "61571cfb-16a9-4103-b59e-c2b66a7c0f61"
      },
      "execution_count": null,
      "outputs": [
        {
          "output_type": "execute_result",
          "data": {
            "text/plain": [
              "DatasetDict({\n",
              "    train: Dataset({\n",
              "        features: ['link', 'title', 'comment', 'racist'],\n",
              "        num_rows: 3005\n",
              "    })\n",
              "    validation: Dataset({\n",
              "        features: ['link', 'title', 'comment', 'racist'],\n",
              "        num_rows: 438\n",
              "    })\n",
              "    test: Dataset({\n",
              "        features: ['link', 'title', 'comment', 'racist'],\n",
              "        num_rows: 851\n",
              "    })\n",
              "})"
            ]
          },
          "metadata": {},
          "execution_count": 127
        }
      ]
    },
    {
      "cell_type": "code",
      "source": [
        "# Eliminar saltos de línea y espacios repetidos\n",
        "def delete_spaces(comment):\n",
        "  spaces_pattern = r'[\\n\\r]+|\\s+'\n",
        "  return re.sub(spaces_pattern, ' ', comment)"
      ],
      "metadata": {
        "id": "e1DisNlD8EQe"
      },
      "execution_count": null,
      "outputs": []
    },
    {
      "cell_type": "code",
      "source": [
        "# Convertir todo a minúsculas\n",
        "def lower_text(comment):\n",
        "  return comment.lower()"
      ],
      "metadata": {
        "id": "3xl6Z2KHsCCp"
      },
      "execution_count": null,
      "outputs": []
    },
    {
      "cell_type": "code",
      "source": [
        "# Eliminar URL\n",
        "def delete_urls(comment):\n",
        "  url_pattern = r'http[s]?://\\S+'\n",
        "  return re.sub(url_pattern, '', comment)"
      ],
      "metadata": {
        "id": "wO5zWZ5xw1Xa"
      },
      "execution_count": null,
      "outputs": []
    },
    {
      "cell_type": "code",
      "source": [
        "# Eliminar consonantes repetidas y puntos suspensivos\n",
        "def delete_repeated_consonants(comment):\n",
        "  repeated_consonant_pattern = r'([^aeiou\\s\\r\\n0-9])\\1{1,}'\n",
        "  def replace(match):\n",
        "      char = match.group(1)\n",
        "      if char in 'rcnl':\n",
        "          return char * 2\n",
        "      else:\n",
        "          return char\n",
        "\n",
        "  return re.sub(repeated_consonant_pattern, replace, comment, flags=re.IGNORECASE)"
      ],
      "metadata": {
        "id": "Q7LZpBzFLVG4"
      },
      "execution_count": null,
      "outputs": []
    },
    {
      "cell_type": "code",
      "source": [
        "# Dejar como máximo 2 vocales iguales contiguas\n",
        "def delete_repeated_vowels(comment):\n",
        "    repeated_vowels_pattern = r'([aeiouAEIOU])\\1{2,}'\n",
        "    return re.sub(repeated_vowels_pattern, r'\\1\\1', comment, flags=re.IGNORECASE)"
      ],
      "metadata": {
        "colab": {
          "base_uri": "https://localhost:8080/"
        },
        "id": "uo8RhcIxvgS3",
        "outputId": "4103d4a2-957f-42c3-f187-1f7f5cee4506"
      },
      "execution_count": null,
      "outputs": [
        {
          "output_type": "stream",
          "name": "stdout",
          "text": [
            "caasa\n"
          ]
        }
      ]
    },
    {
      "cell_type": "code",
      "source": [
        "# Eliminar acentos no empleados en Español\n",
        "def delete_accents (comment):\n",
        "  comment = re.sub(r\"[àâãäå]\", \"a\", comment)\n",
        "  comment = re.sub(r\"ç\", \"c\", comment)\n",
        "  comment = re.sub(r\"[èêë]\", \"e\", comment)\n",
        "  comment = re.sub(r\"[ìîï]\", \"i\", comment)\n",
        "  comment = re.sub(r\"[òôõö]\", \"o\", comment)\n",
        "  comment = re.sub(r\"[ùû]\", \"u\", comment)\n",
        "  comment = re.sub(r\"[ýÿ]\", \"y\", comment)\n",
        "  return comment"
      ],
      "metadata": {
        "id": "rxeixxaYLZsw"
      },
      "execution_count": null,
      "outputs": []
    },
    {
      "cell_type": "code",
      "source": [
        "# Eliminar caracteres inusuales\n",
        "def delete_characters(comment):\n",
        "  special_characters = r'[ºª|·~¬\\^`[\\]¨´#\\\\\\'\\(\\)*\\<>_]'\n",
        "  return re.sub(special_characters, '', comment)"
      ],
      "metadata": {
        "id": "82hpJqjoLd9M"
      },
      "execution_count": null,
      "outputs": []
    },
    {
      "cell_type": "code",
      "source": [
        "# Eliminar emoticonos\n",
        "def delete_emoticons(comment):\n",
        "  emoticon_pattern = r'[\\U0001F600-\\U0001F64F\\U0001F300-\\U0001F5FF\\U0001F680-\\U0001F6FF\\U0001F700-\\U0001F77F\\U0001F900-\\U0001F9FF]'\n",
        "  return re.sub(emoticon_pattern, '', comment)"
      ],
      "metadata": {
        "id": "ZDqTacosx0kl"
      },
      "execution_count": null,
      "outputs": []
    },
    {
      "cell_type": "code",
      "source": [
        "# Escribir todas las risas de la misma manera\n",
        "def unify_laughs (comment):\n",
        "  laugh_pattern = r\"\\b(a*ha+h[ha]*|o?l+o+l+[ol]*|x+d+[x*d*]*|a*ja+[j+a+]+|j+e+j+[ej]*)\\b\"\n",
        "  return re.sub(laugh_pattern, 'jaja', comment, flags=re.IGNORECASE)"
      ],
      "metadata": {
        "id": "9jR-fqZL3vIj"
      },
      "execution_count": null,
      "outputs": []
    },
    {
      "cell_type": "code",
      "source": [
        "def preprocess_comment(comment):\n",
        "  comment = delete_spaces(comment)\n",
        "  comment = lower_text(comment)\n",
        "  comment = delete_urls(comment)\n",
        "  comment = delete_repeated_consonants(comment)\n",
        "  comment = delete_repeated_vowels(comment)\n",
        "  comment = delete_accents(comment)\n",
        "  comment = delete_characters(comment)\n",
        "  comment = delete_emoticons(comment)\n",
        "  comment = unify_laughs(comment)\n",
        "  return comment"
      ],
      "metadata": {
        "id": "DSTfhASDKz_G"
      },
      "execution_count": null,
      "outputs": []
    },
    {
      "cell_type": "code",
      "source": [
        "preprocessed_data = dataset.map(lambda ex: {\n",
        "    \"comment\": preprocess_comment(ex[\"comment\"])\n",
        "})"
      ],
      "metadata": {
        "id": "qE9IahlBsXnR"
      },
      "execution_count": null,
      "outputs": []
    }
  ]
}